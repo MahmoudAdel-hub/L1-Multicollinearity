{
 "cells": [
  {
   "cell_type": "markdown",
   "id": "24991d1a",
   "metadata": {},
   "source": [
    "When both features are highly correlated and have the same importance, using L1 regularization may lead to selecting only one feature and setting the other to zero. This is not desirable because both features are important and will help our model.\n",
    "\n",
    "When two features are highly correlated but have different levels of importance, the model may assign more weight to the less important feature, resulting in an incorrect selection of the most important features. This is because the model cannot distinguish the true importance between each feature and target.\n",
    "\n",
    "In cases where both features are highly correlated but have low importance, dropping both features will not result in a loss of information.\n",
    "\n",
    "Overall, understanding the importance and correlation between features is critical when applying machine learning models, and regularization techniques such as L1 regularization should be used with caution to avoid losing important information or selecting the wrong subset of features."
   ]
  },
  {
   "cell_type": "code",
   "execution_count": 1,
   "id": "e4887dde",
   "metadata": {},
   "outputs": [],
   "source": [
    "import numpy as np"
   ]
  },
  {
   "cell_type": "markdown",
   "id": "7d8aca9f",
   "metadata": {},
   "source": [
    "# First Case"
   ]
  },
  {
   "cell_type": "code",
   "execution_count": 2,
   "id": "ded458d7",
   "metadata": {},
   "outputs": [],
   "source": [
    "X1 = [1, 2, 3, 4, 5]\n",
    "X2 = [1.1, 2.1, 3.1, 4.1, 5.1]\n",
    "y = [4, 8, 12, 16, 20]"
   ]
  },
  {
   "cell_type": "code",
   "execution_count": 3,
   "id": "0a73bd89",
   "metadata": {},
   "outputs": [
    {
     "name": "stdout",
     "output_type": "stream",
     "text": [
      "[4.]\n"
     ]
    }
   ],
   "source": [
    "from sklearn.linear_model import LinearRegression\n",
    "\n",
    "X = np.array([X1]).T\n",
    "y = np.array(y)\n",
    "\n",
    "model = LinearRegression()\n",
    "model.fit(X, y)\n",
    "\n",
    "print(model.coef_)\n"
   ]
  },
  {
   "cell_type": "code",
   "execution_count": 4,
   "id": "2cc4476d",
   "metadata": {},
   "outputs": [
    {
     "name": "stdout",
     "output_type": "stream",
     "text": [
      "[4.]\n"
     ]
    }
   ],
   "source": [
    "from sklearn.linear_model import LinearRegression\n",
    "\n",
    "X = np.array([X2]).T\n",
    "y = np.array(y)\n",
    "\n",
    "model = LinearRegression()\n",
    "model.fit(X, y)\n",
    "\n",
    "print(model.coef_)\n"
   ]
  },
  {
   "cell_type": "code",
   "execution_count": 5,
   "id": "eea09aeb",
   "metadata": {},
   "outputs": [
    {
     "name": "stdout",
     "output_type": "stream",
     "text": [
      "[2. 2.]\n"
     ]
    }
   ],
   "source": [
    "from sklearn.linear_model import LinearRegression\n",
    "\n",
    "X = np.array([X1, X2]).T\n",
    "y = np.array(y)\n",
    "\n",
    "model = LinearRegression()\n",
    "model.fit(X, y)\n",
    "\n",
    "print(model.coef_)"
   ]
  },
  {
   "cell_type": "code",
   "execution_count": 6,
   "id": "97bda5f9",
   "metadata": {},
   "outputs": [],
   "source": [
    "from sklearn.linear_model import Lasso"
   ]
  },
  {
   "cell_type": "code",
   "execution_count": 7,
   "id": "979b0344",
   "metadata": {},
   "outputs": [
    {
     "data": {
      "text/plain": [
       "array([3.5, 0. ])"
      ]
     },
     "execution_count": 7,
     "metadata": {},
     "output_type": "execute_result"
    }
   ],
   "source": [
    "model=Lasso()\n",
    "model.fit(X,y)\n",
    "model.coef_"
   ]
  },
  {
   "cell_type": "markdown",
   "id": "5885717e",
   "metadata": {},
   "source": [
    "# Second Case "
   ]
  },
  {
   "cell_type": "code",
   "execution_count": 8,
   "id": "6f634d18",
   "metadata": {},
   "outputs": [],
   "source": [
    "X1 = [1, 2, 3, 4, 5]\n",
    "X2 = [2, 4, 6, 8, 10]\n",
    "y = [4, 8, 12, 16, 20]\n"
   ]
  },
  {
   "cell_type": "code",
   "execution_count": 9,
   "id": "3a3a97d2",
   "metadata": {},
   "outputs": [
    {
     "name": "stdout",
     "output_type": "stream",
     "text": [
      "[4.]\n"
     ]
    }
   ],
   "source": [
    "from sklearn.linear_model import LinearRegression\n",
    "\n",
    "X = np.array([X1]).T\n",
    "y = np.array(y)\n",
    "\n",
    "model = LinearRegression()\n",
    "model.fit(X, y)\n",
    "\n",
    "print(model.coef_)\n"
   ]
  },
  {
   "cell_type": "code",
   "execution_count": 10,
   "id": "d636b120",
   "metadata": {},
   "outputs": [
    {
     "name": "stdout",
     "output_type": "stream",
     "text": [
      "[2.]\n"
     ]
    }
   ],
   "source": [
    "from sklearn.linear_model import LinearRegression\n",
    "\n",
    "X = np.array([X2]).T\n",
    "y = np.array(y)\n",
    "\n",
    "model = LinearRegression()\n",
    "model.fit(X, y)\n",
    "\n",
    "print(model.coef_)\n"
   ]
  },
  {
   "cell_type": "code",
   "execution_count": 11,
   "id": "ee9f0771",
   "metadata": {},
   "outputs": [
    {
     "name": "stdout",
     "output_type": "stream",
     "text": [
      "[0.8 1.6]\n"
     ]
    }
   ],
   "source": [
    "from sklearn.linear_model import LinearRegression\n",
    "\n",
    "X = np.array([X1,X2]).T\n",
    "y = np.array(y)\n",
    "\n",
    "model = LinearRegression()\n",
    "model.fit(X, y)\n",
    "\n",
    "print(model.coef_)"
   ]
  },
  {
   "cell_type": "code",
   "execution_count": 12,
   "id": "d3fc8a83",
   "metadata": {},
   "outputs": [],
   "source": [
    "model=Lasso()"
   ]
  },
  {
   "cell_type": "code",
   "execution_count": 13,
   "id": "3d0dd1c4",
   "metadata": {},
   "outputs": [
    {
     "name": "stdout",
     "output_type": "stream",
     "text": [
      "[0.    1.875]\n"
     ]
    }
   ],
   "source": [
    "model.fit(X, y)\n",
    "\n",
    "print(model.coef_)\n"
   ]
  },
  {
   "cell_type": "markdown",
   "id": "532aa6aa",
   "metadata": {},
   "source": [
    "# Third Case"
   ]
  },
  {
   "cell_type": "code",
   "execution_count": 14,
   "id": "7adff3dd",
   "metadata": {},
   "outputs": [],
   "source": [
    "X1 = [15, 2, 4, 11, 9]\n",
    "X2 = [15.1, 2.1, 4.1, 11.1, 9.1]\n",
    "X3 = [2,4,6,8,10]\n",
    "y = [4, 8, 12, 16, 20]"
   ]
  },
  {
   "cell_type": "code",
   "execution_count": 15,
   "id": "d12052f3",
   "metadata": {},
   "outputs": [
    {
     "name": "stdout",
     "output_type": "stream",
     "text": [
      "[-0.10830325]\n"
     ]
    }
   ],
   "source": [
    "from sklearn.linear_model import LinearRegression\n",
    "\n",
    "X = np.array([X1]).T\n",
    "y = np.array(y)\n",
    "\n",
    "model = LinearRegression()\n",
    "model.fit(X, y)\n",
    "\n",
    "print(model.coef_)\n"
   ]
  },
  {
   "cell_type": "code",
   "execution_count": 16,
   "id": "3407934d",
   "metadata": {},
   "outputs": [
    {
     "name": "stdout",
     "output_type": "stream",
     "text": [
      "[-0.10830325]\n"
     ]
    }
   ],
   "source": [
    "from sklearn.linear_model import LinearRegression\n",
    "\n",
    "X = np.array([X2]).T\n",
    "y = np.array(y)\n",
    "\n",
    "model = LinearRegression()\n",
    "model.fit(X, y)\n",
    "\n",
    "print(model.coef_)\n"
   ]
  },
  {
   "cell_type": "code",
   "execution_count": 17,
   "id": "3abc746a",
   "metadata": {},
   "outputs": [
    {
     "name": "stdout",
     "output_type": "stream",
     "text": [
      "[2.]\n"
     ]
    }
   ],
   "source": [
    "from sklearn.linear_model import LinearRegression\n",
    "\n",
    "X = np.array([X3]).T\n",
    "y = np.array(y)\n",
    "\n",
    "model = LinearRegression()\n",
    "model.fit(X, y)\n",
    "\n",
    "print(model.coef_)\n"
   ]
  },
  {
   "cell_type": "code",
   "execution_count": 18,
   "id": "c5726b20",
   "metadata": {},
   "outputs": [
    {
     "name": "stdout",
     "output_type": "stream",
     "text": [
      "[ 2.60910315e-17 -1.24900090e-16  2.00000000e+00]\n"
     ]
    }
   ],
   "source": [
    "from sklearn.linear_model import LinearRegression\n",
    "\n",
    "X = np.array([X1, X2, X3]).T\n",
    "y = np.array(y)\n",
    "\n",
    "model = LinearRegression()\n",
    "model.fit(X, y)\n",
    "\n",
    "print(model.coef_)\n"
   ]
  },
  {
   "cell_type": "code",
   "execution_count": 19,
   "id": "26154326",
   "metadata": {},
   "outputs": [],
   "source": [
    "model=Lasso()"
   ]
  },
  {
   "cell_type": "code",
   "execution_count": 20,
   "id": "2983768f",
   "metadata": {},
   "outputs": [
    {
     "name": "stdout",
     "output_type": "stream",
     "text": [
      "[-0.    -0.     1.875]\n"
     ]
    }
   ],
   "source": [
    "model.fit(X, y)\n",
    "\n",
    "print(model.coef_)\n"
   ]
  }
 ],
 "metadata": {
  "kernelspec": {
   "display_name": "Python 3 (ipykernel)",
   "language": "python",
   "name": "python3"
  },
  "language_info": {
   "codemirror_mode": {
    "name": "ipython",
    "version": 3
   },
   "file_extension": ".py",
   "mimetype": "text/x-python",
   "name": "python",
   "nbconvert_exporter": "python",
   "pygments_lexer": "ipython3",
   "version": "3.10.5"
  },
  "vp": {
   "vp_config_version": "1.0.0",
   "vp_menu_width": 273,
   "vp_note_display": false,
   "vp_note_width": 0,
   "vp_position": {
    "width": 278
   },
   "vp_section_display": false,
   "vp_signature": "VisualPython"
  }
 },
 "nbformat": 4,
 "nbformat_minor": 5
}
